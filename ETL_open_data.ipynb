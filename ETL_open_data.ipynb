{
 "cells": [
  {
   "cell_type": "markdown",
   "metadata": {},
   "source": [
    "- Introdução\n",
    "- Ementa\n",
    "- O que esperar/o que não esperar desse tutorial\n",
    "- O que é ETL\n",
    "- Fonte de dados\n",
    "- Extração\n",
    "- Exploração inicial\n",
    "- Tratamento\n",
    "- Carregamento"
   ]
  },
  {
   "cell_type": "markdown",
   "metadata": {},
   "source": [
    "# Introdução "
   ]
  },
  {
   "cell_type": "code",
   "execution_count": 1,
   "metadata": {},
   "outputs": [],
   "source": [
    "# TODO"
   ]
  },
  {
   "cell_type": "markdown",
   "metadata": {},
   "source": [
    "# O que esperar/o que não esperar desse tutorial "
   ]
  },
  {
   "cell_type": "markdown",
   "metadata": {},
   "source": [
    "## O que esperar "
   ]
  },
  {
   "cell_type": "markdown",
   "metadata": {},
   "source": [
    "1. Conceitos básicos de engenharia de dados\n",
    "2. Como implementar rotinas de extração de dados usando da lib Requests\n",
    "3. Como manipular dados tabulares com o Pandas\n",
    "4. Como analisar uma fonte de dados \n",
    "5. Como organizar a experimentação com small data em python"
   ]
  },
  {
   "cell_type": "markdown",
   "metadata": {},
   "source": [
    "## O que não esperar "
   ]
  },
  {
   "cell_type": "markdown",
   "metadata": {},
   "source": [
    "1. Implementação de pipelines de streaming de dados\n",
    "2. Solução completa pronta para produção\n",
    "3. Como construir pipelines utilizando ferramentas de workflow(ex.: Airflow)\n",
    "4. Como trabalhar com Big data em python"
   ]
  },
  {
   "cell_type": "markdown",
   "metadata": {},
   "source": [
    "# O que é ETL"
   ]
  },
  {
   "cell_type": "code",
   "execution_count": 3,
   "metadata": {},
   "outputs": [],
   "source": [
    "# TODO"
   ]
  },
  {
   "cell_type": "code",
   "execution_count": null,
   "metadata": {},
   "outputs": [],
   "source": []
  }
 ],
 "metadata": {
  "kernelspec": {
   "display_name": "Python 3",
   "language": "python",
   "name": "python3"
  },
  "language_info": {
   "codemirror_mode": {
    "name": "ipython",
    "version": 3
   },
   "file_extension": ".py",
   "mimetype": "text/x-python",
   "name": "python",
   "nbconvert_exporter": "python",
   "pygments_lexer": "ipython3",
   "version": "3.8.5"
  }
 },
 "nbformat": 4,
 "nbformat_minor": 4
}
